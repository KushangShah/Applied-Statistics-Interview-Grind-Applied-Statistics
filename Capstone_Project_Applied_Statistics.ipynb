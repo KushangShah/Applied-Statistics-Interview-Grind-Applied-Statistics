{
  "nbformat": 4,
  "nbformat_minor": 0,
  "metadata": {
    "colab": {
      "provenance": [],
      "authorship_tag": "ABX9TyMslywph+0h3C19zQUSIWhf",
      "include_colab_link": true
    },
    "kernelspec": {
      "name": "python3",
      "display_name": "Python 3"
    },
    "language_info": {
      "name": "python"
    }
  },
  "cells": [
    {
      "cell_type": "markdown",
      "metadata": {
        "id": "view-in-github",
        "colab_type": "text"
      },
      "source": [
        "<a href=\"https://colab.research.google.com/github/KushangShah/Applied-Statistics-Interview-Grind-Applied-Statistics/blob/main/Capstone_Project_Applied_Statistics.ipynb\" target=\"_parent\"><img src=\"https://colab.research.google.com/assets/colab-badge.svg\" alt=\"Open In Colab\"/></a>"
      ]
    },
    {
      "cell_type": "markdown",
      "source": [
        "# End Course Summative AssignmentEnd Course Summative Assignment!"
      ],
      "metadata": {
        "id": "PzSIhz21-b7L"
      }
    },
    {
      "cell_type": "markdown",
      "source": [
        "####**Problem Statement: Write the Solutions to the Top 50 Interview Questions and Explain any 5 Questions in a Video**\n",
        "\n",
        "Imagine you are a dedicated student aspiring to excel in job\n",
        "interviews. Your task is to write the solutions for any 50 interview questions out of  80 total questions  presented to you. Additionally, create an engaging video where you thoroughly explain the answers to any five of these questions.\n",
        "\n",
        "Your solutions should be concise, well-structured, and effective in showcasing your problem-solving skills. In the video, use a dynamic approach to clarify the chosen questions, ensuring your explanations are easily comprehensible for a broad audience."
      ],
      "metadata": {
        "id": "bfmkmr5Q-j3u"
      }
    },
    {
      "cell_type": "markdown",
      "source": [
        "### **1. What is a vector in mathematics?**\n"
      ],
      "metadata": {
        "id": "6p_kvEvR-0vX"
      }
    },
    {
      "cell_type": "markdown",
      "source": [
        "A vector in mathematics is a quantity that has both magnitude (or length) and direction. It is often used to represent physical quantities such as force or velocity, which have a direction and a magnitude. Unlike a scalar, which only has magnitude, a vector provides more detailed information about the quantity it represents."
      ],
      "metadata": {
        "id": "i0woR4_7dV09"
      }
    },
    {
      "cell_type": "markdown",
      "source": [
        "### **2. How is a vector different from a scalar?**\n"
      ],
      "metadata": {
        "id": "KSLsnFu4dVxy"
      }
    },
    {
      "cell_type": "markdown",
      "source": [
        "A vector differs from a scalar in that it has both magnitude and direction, whereas a scalar only has magnitude. For instance, speed is a scalar because it only involves the magnitude of movement, while velocity is a vector because it includes both the speed and the direction of movement. Thus, vectors provide more detailed information about physical quantities than scalars. For example, if a car is moving at 60 mph north, the speed (60 mph) is the scalar quantity, while the velocity (60 mph north) is the vector quantity which includes direction.\n"
      ],
      "metadata": {
        "id": "SDV8b-lAdVu8"
      }
    },
    {
      "cell_type": "markdown",
      "source": [
        "### **3. What are the different operations that can be performed on vectors?**\n"
      ],
      "metadata": {
        "id": "35X9ZNO2dVoD"
      }
    },
    {
      "cell_type": "markdown",
      "source": [
        "There are several operations that can be performed on vectors. These include:\n",
        "\n",
        "- **Addition/Subtraction**: Vectors can be added or subtracted component-wise. For example, if we have two vectors u = (u1, u2) and v = (v1, v2), the addition of u and v (u+v) would be (u1+v1, u2+v2).\n",
        "- **Scalar Multiplication**: A vector can be multiplied by a scalar (a real number). For example, if we have a vector u = (u1, u2) and a scalar c, the scalar multiplication of u and c (cu) would be (cu1, cu2).\n",
        "- **Dot Product**: The dot product (or scalar product) of two vectors u = (u1, u2) and v = (v1, v2) is a scalar obtained by multiplying corresponding components and adding the products (u1v1 + u2v2).\n",
        "- **Cross Product**: The cross product (or vector product) of two vectors in three-dimensional space results in a vector that is perpendicular to the plane containing the two original vectors.\n",
        "\n",
        "These operations are the basis for many concepts and calculations in fields such as physics and engineering."
      ],
      "metadata": {
        "id": "OvKGvgBMdVgN"
      }
    },
    {
      "cell_type": "markdown",
      "source": [],
      "metadata": {
        "id": "ZL9HJPW2dVc8"
      }
    },
    {
      "cell_type": "markdown",
      "source": [
        "### **4. How can vectors be multiplied by a scalar?**\n"
      ],
      "metadata": {
        "id": "e_o8xiFGdrX4"
      }
    },
    {
      "cell_type": "markdown",
      "source": [
        "A vector can be multiplied by a scalar by multiplying each component of the vector by the scalar. This operation is called \"scalar multiplication\".\n",
        "\n",
        "For instance, if we have a vector $v = (2, 3)$ and a scalar $c = 4$, the scalar multiplication of v and c (cv) would be:\n",
        "\n",
        "$cv = (4 * 2, 4 * 3) = (8, 12)$\n",
        "\n",
        "So, the scalar multiplication of the vector v and the scalar c results in a new vector $(8, 12)$."
      ],
      "metadata": {
        "id": "GOBD1qIqdrWI"
      }
    },
    {
      "cell_type": "markdown",
      "source": [
        "### **5. What is the magnitude of a vector?**\n"
      ],
      "metadata": {
        "id": "3ZANGwS-drU9"
      }
    },
    {
      "cell_type": "markdown",
      "source": [
        "The magnitude of a vector represents its length or size in the vector space. It is calculated by taking the square root of the sum of the squares of its components.\n",
        "\n",
        "For example, if we have a vector $v = (v1, v2)$, the magnitude (or length) of v, denoted as ||v||, can be calculated as:\n",
        "\n",
        "$||v|| = sqrt(v1^2 + v2^2)$\n",
        "\n",
        "So, if you have a vector v = (3, 4), the magnitude of v would be:\n",
        "\n",
        "$||v|| = sqrt(3^2 + 4^2) = sqrt(9 + 16) = sqrt(25) = 5$\n",
        "\n",
        "Therefore, the magnitude of the vector $v = (3, 4) = 5.$"
      ],
      "metadata": {
        "id": "bGENrPqwdrTE"
      }
    },
    {
      "cell_type": "markdown",
      "source": [
        "### **6. How can the direction of a vector be determined?**\n"
      ],
      "metadata": {
        "id": "gwAo9YhPdrR8"
      }
    },
    {
      "cell_type": "markdown",
      "source": [
        "\n",
        "The direction of a vector can be determined by calculating the angle it makes with the x-axis, using trigonometric functions. For a 2D vector `(a, b)`, the angle θ (in radians) can be found using `arctan(b/a)`. Please note, the quadrant in which the vector lies needs to be considered while determining the direction."
      ],
      "metadata": {
        "id": "pZDntUjDdrQC"
      }
    },
    {
      "cell_type": "markdown",
      "source": [
        "### **7. What is the difference between a square matrix and a rectangular matrix?**\n"
      ],
      "metadata": {
        "id": "_-1Yg0EAdrOq"
      }
    },
    {
      "cell_type": "markdown",
      "source": [
        "\n",
        "A square matrix is a matrix with the same number of rows and columns. For example, a 2x2 matrix is a square matrix. In contrast, a rectangular matrix has a different number of rows and columns. For instance, a 3x2 matrix is a rectangular matrix."
      ],
      "metadata": {
        "id": "yRrXh_iJdrNI"
      }
    },
    {
      "cell_type": "markdown",
      "source": [
        "### **8. What is a basis in linear algebra?**\n"
      ],
      "metadata": {
        "id": "v6JKHC-YdrMA"
      }
    },
    {
      "cell_type": "markdown",
      "source": [
        "\n",
        "A basis in linear algebra is a set of vectors that are linearly independent and span the vector space. For example, the vectors `(1, 0)` and `(0, 1)` form a basis for the 2D plane because they are linearly independent (no vector is a linear combination of the other) and any point on the 2D plane can be expressed as a linear combination of these two vectors."
      ],
      "metadata": {
        "id": "851D9-kkdrKW"
      }
    },
    {
      "cell_type": "markdown",
      "source": [
        "### **9. What is a linear transformation in linear algebra?**\n"
      ],
      "metadata": {
        "id": "gj2z-DkvdrJO"
      }
    },
    {
      "cell_type": "markdown",
      "source": [
        "\n",
        "A linear transformation is a function that preserves the operations of addition and scalar multiplication. In other words, for any vectors `v` and `w` and any scalar `c`, a linear transformation `T` satisfies `T(v + w) = T(v) + T(w)` and `T(cv) = cT(v)`.\n"
      ],
      "metadata": {
        "id": "MYNdw4w6drHk"
      }
    },
    {
      "cell_type": "markdown",
      "source": [
        "### **10. What is an eigenvector in linear algebra?**\n"
      ],
      "metadata": {
        "id": "bNP3D_TEdrGG"
      }
    },
    {
      "cell_type": "markdown",
      "source": [
        "\n",
        "An eigenvector is a non-zero vector that only changes by a scalar factor when a linear transformation is applied to it. That is, for a linear transformation `T` and a scalar `λ`, an eigenvector `v` satisfies `T(v) = λv`. The scalar `λ` is called the eigenvalue associated with the eigenvector."
      ],
      "metadata": {
        "id": "GmvaoPl6drCR"
      }
    },
    {
      "cell_type": "markdown",
      "source": [
        "### **11. What is the gradient in machine learning?**\n"
      ],
      "metadata": {
        "id": "VPaoiWc0drBQ"
      }
    },
    {
      "cell_type": "markdown",
      "source": [
        "\n",
        "The gradient in machine learning is a vector of partial derivatives that points in the direction of the greatest rate of increase of a function. For instance, if our function is f(x, y) = x² + y², the gradient would be ∇f(x, y) = [2x, 2y]."
      ],
      "metadata": {
        "id": "XmqimMJodq_n"
      }
    },
    {
      "cell_type": "markdown",
      "source": [
        "### **12. What is backpropagation in machine learning?**\n"
      ],
      "metadata": {
        "id": "CD1uuWvsdq-O"
      }
    },
    {
      "cell_type": "markdown",
      "source": [
        "\n",
        "Backpropagation is an algorithm used in neural networks to calculate the gradient of the loss function with respect to the weights of the network. For example, if we have a simple network with weights w1 and w2, and a loss function L, backpropagation would help us calculate ∂L/∂w1 and ∂L/∂w2."
      ],
      "metadata": {
        "id": "LtaY-p3odq8l"
      }
    },
    {
      "cell_type": "markdown",
      "source": [
        "### **13. What is the concept of a derivative in calculus?**\n"
      ],
      "metadata": {
        "id": "4d0MQovYdq7V"
      }
    },
    {
      "cell_type": "markdown",
      "source": [
        "\n",
        "A derivative in calculus measures how a function changes as its input changes. For example, if we have a function f(x) = x², the derivative f'(x) = 2x."
      ],
      "metadata": {
        "id": "gLQeAjszdq5r"
      }
    },
    {
      "cell_type": "markdown",
      "source": [
        "### **14. How are partial derivatives used in machine learning?**\n"
      ],
      "metadata": {
        "id": "DpszVDltdq4s"
      }
    },
    {
      "cell_type": "markdown",
      "source": [
        "\n",
        "Partial derivatives are used in machine learning to optimize loss functions with respect to multiple parameters. For instance, if we have a loss function L(w1, w2), we would calculate ∂L/∂w1 and ∂L/∂w2 and use these to update the parameters w1 and w2 to minimize the loss function.\n"
      ],
      "metadata": {
        "id": "ayzxdao9dq1J"
      }
    },
    {
      "cell_type": "markdown",
      "source": [
        "### **15. What is probability theory?**\n"
      ],
      "metadata": {
        "id": "7SWHthbldqyv"
      }
    },
    {
      "cell_type": "markdown",
      "source": [
        "\n",
        "Probability theory is a branch of mathematics that deals with uncertainty. It is used to quantify the likelihood of events. For example, the probability of getting a head when flipping a fair coin is 0.5 (or 50%)."
      ],
      "metadata": {
        "id": "xWazTjJMdqxV"
      }
    },
    {
      "cell_type": "markdown",
      "source": [],
      "metadata": {
        "id": "uF1pGCd2dqv6"
      }
    },
    {
      "cell_type": "markdown",
      "source": [
        "### **16. What are the primary components of probability theory?**\n"
      ],
      "metadata": {
        "id": "H-AJ4By-hTvv"
      }
    },
    {
      "cell_type": "markdown",
      "source": [
        "\n",
        "1. **Experiment**: This is the action or procedure that results in one of several possible outcomes. For example, tossing a coin is an experiment.\n",
        "2. **Sample Space**: This is the set of all possible outcomes of an experiment. For example, when tossing a coin, the sample space is {Heads, Tails}.\n",
        "3. **Event**: This is a subset of the sample space. It includes one or several outcomes of the experiment. For instance, getting a \"Heads\" when tossing a coin is an event.\n",
        "4. **Probability**: This is a measure that quantifies the likelihood that a given event will occur. It ranges from 0 to 1, where 0 indicates the event will not occur and 1 indicates the event will definitely occur. For example, the probability of getting a \"Heads\" when tossing a fair coin is 0.5."
      ],
      "metadata": {
        "id": "TNZatvYNhTum"
      }
    },
    {
      "cell_type": "markdown",
      "source": [
        "### **17. What is conditional probability, and how is it calculated?**\n"
      ],
      "metadata": {
        "id": "LZrhNA1ghTtm"
      }
    },
    {
      "cell_type": "markdown",
      "source": [
        "\n",
        "Conditional probability is a measure of the probability of an event occurring, given that another event has already occurred. If the event of interest is A and event B has already occurred, the conditional probability of A given B is usually written as P(A|B). It is calculated by the formula:\n",
        "P(A|B) = P(A ∩ B) / P(B), where P(A ∩ B) is the probability of both events A and B happening, and P(B) is the probability of event B happening.\n"
      ],
      "metadata": {
        "id": "tHPsM4OnhTsR"
      }
    },
    {
      "cell_type": "markdown",
      "source": [
        "### **18. What is Bayes theorem, and how is it used?**\n"
      ],
      "metadata": {
        "id": "omu-_khXhTrM"
      }
    },
    {
      "cell_type": "markdown",
      "source": [
        "\n",
        "Bayes' theorem is a fundamental principle in statistics and probability theory. It describes the relationship of conditional probabilities of statistical quantities. In machine learning, it's used to update predictions given new data. It's especially useful in email filtering to determine whether an email is spam or not, among other applications."
      ],
      "metadata": {
        "id": "hddtYRldhTpz"
      }
    },
    {
      "cell_type": "markdown",
      "source": [
        "### **19. What is a random variable, and how is it different from a regular variable?**\n",
        "\n"
      ],
      "metadata": {
        "id": "787B9k3ahToq"
      }
    },
    {
      "cell_type": "markdown",
      "source": [
        "\n",
        "A random variable is a variable whose possible values are numerical outcomes of a random phenomenon. Unlike a regular variable, which can take a fixed value, a random variable's value is determined by chance. For example, if you roll a die, the outcome is a random variable because it can be any number from 1 to 6, each with an equal probability."
      ],
      "metadata": {
        "id": "pcR1RWx2hTnJ"
      }
    },
    {
      "cell_type": "markdown",
      "source": [
        "### **20. What is the law of large numbers, and how does it relate to probability theory?**"
      ],
      "metadata": {
        "id": "3THhhI8uhpbr"
      }
    },
    {
      "cell_type": "markdown",
      "source": [
        "The law of large numbers is a fundamental concept in probability theory. It states that as you repeat an experiment more and more times, the average of the results will get closer and closer to the expected value.\n",
        "\n",
        "Think of flipping a fair coin. If you flip it just a few times, you might get heads more often than tails, or vice versa. But if you flip the coin thousands of times, the proportion of heads to tails will get closer and closer to 50%.\n",
        "\n",
        "For example, let's say you roll a fair six-sided die. The expected value, or the average outcome, is 3.5. If you roll the die just a few times, your average roll might not be exactly 3.5. But if you roll it thousands of times, the average of all your rolls will get very close to 3.5.\n",
        "\n",
        "In short, the law of large numbers tells us that with enough trials, the actual results will converge to the expected results, providing a strong link between theoretical probability and real-world outcomes."
      ],
      "metadata": {
        "id": "bbZEeGwcdqlW"
      }
    },
    {
      "cell_type": "markdown",
      "source": [
        "### **21. What is the central limit theorem, and how is it used?**\n"
      ],
      "metadata": {
        "id": "KTS5o3hUdqiP"
      }
    },
    {
      "cell_type": "markdown",
      "source": [
        "The central limit theorem (CLT) states that the distribution of the sum (or average) of a large number of independent, identically distributed random variables approaches a normal distribution, regardless of the original distribution of the variables. This is used to make inferences about population parameters even when the population distribution is not normal. Suppose you measure the heights of 1,000 people. Even if individual heights follow a non-normal distribution, the average height of many different samples of 30 people each will form a normal distribution, enabling us to apply techniques that assume normality."
      ],
      "metadata": {
        "id": "lx-60bUgieAx"
      }
    },
    {
      "cell_type": "markdown",
      "source": [
        "### **22. What is the difference between discrete and continuous probability distributions?**\n"
      ],
      "metadata": {
        "id": "Y29U84xGid9Y"
      }
    },
    {
      "cell_type": "markdown",
      "source": [
        "Discrete probability distributions describe scenarios where the set of possible outcomes is countable, while continuous probability distributions apply to scenarios where outcomes can take any value within a range.\n",
        "\n",
        "Example:\n",
        "\n",
        "Discrete: The number of heads in 10 coin flips (0, 1, 2, ..., 10).\n",
        "Continuous: The exact height of people in a population (can be any value within a range, such as 150.2 cm, 170.5 cm, etc.).\n"
      ],
      "metadata": {
        "id": "JPpcb1Aeid6r"
      }
    },
    {
      "cell_type": "markdown",
      "source": [
        "### **23. What are some common measures of central tendency, and how are they calculated?**"
      ],
      "metadata": {
        "id": "D4QlSQBcid4B"
      }
    },
    {
      "cell_type": "markdown",
      "source": [
        "Mean: The average of all data points, calculated by summing all values and dividing by the number of values.\n",
        "Median: The middle value in an ordered dataset. If the dataset has an even number of observations, the median is the average of the two middle numbers.\n",
        "\n",
        "Mode: The value that appears most frequently in a dataset.\n",
        "\n",
        "```\n",
        "Example: For the dataset {3, 1, 4, 1, 5}:\n",
        "\n",
        "Mean = (3 + 1 + 4 + 1 + 5) / 5 = 2.8\n",
        "Median = 3 (middle value when sorted: 1, 1, 3, 4, 5)\n",
        "Mode = 1 (appears most frequently).\n",
        "```\n",
        "\n"
      ],
      "metadata": {
        "id": "r257PARvid1o"
      }
    },
    {
      "cell_type": "markdown",
      "source": [
        "### **24. What is the purpose of using percentiles and quartiles in data summarization?**"
      ],
      "metadata": {
        "id": "kuDJSayTidzW"
      }
    },
    {
      "cell_type": "markdown",
      "source": [
        "Percentiles and quartiles are used to understand the distribution of data by dividing it into parts. Percentiles indicate the relative standing of a value within a dataset, showing the percentage of data below that value. Quartiles divide data into four equal parts, providing insights into the spread and center of the data. In a test score dataset, the 75th percentile (3rd quartile) marks the score below which 75% of the scores fall. Quartiles help identify the median (2nd quartile) and the spread of the middle 50% of the data (interquartile range)."
      ],
      "metadata": {
        "id": "xaeRkTNhidws"
      }
    },
    {
      "cell_type": "markdown",
      "source": [
        "### **25. How do you detect and treat outliers in a dataset?**"
      ],
      "metadata": {
        "id": "A9K6o9moidus"
      }
    },
    {
      "cell_type": "markdown",
      "source": [
        "Outliers are detected using methods like the Z-score, which measures how many standard deviations a data point is from the mean, or the IQR method, which identifies data points that fall below Q1 - 1.5IQR or above Q3 + 1.5IQR.\n",
        "\n",
        "Treatment:\n",
        "\n",
        "Remove outliers if they are errors or irrelevant.\n",
        "Transform data to reduce the impact of outliers.\n",
        "Use robust statistical methods that minimize the influence of outliers.\n",
        "Example: In a dataset of test scores, if most scores are between 60 and 90 but one score is 10, this may be an outlier. Using the IQR method, you could check if 10 falls outside the expected range and decide whether to exclude it from analysis."
      ],
      "metadata": {
        "id": "7OriGxmlids5"
      }
    },
    {
      "cell_type": "markdown",
      "source": [
        "### **26. How do you use the central limit theorem to approximate a discrete probability distribution?**"
      ],
      "metadata": {
        "id": "VHiKBaHFidr7"
      }
    },
    {
      "cell_type": "markdown",
      "source": [
        "\n",
        "The Central Limit Theorem (CLT) states that the sum (or average) of a large number of independent, identically distributed (i.i.d.) random variables, regardless of the original distribution, will tend to follow a normal distribution.\n",
        "\n",
        "Example:\n",
        "Suppose you have a discrete probability distribution of rolling a fair six-sided die. The possible outcomes are {1, 2, 3, 4, 5, 6}, each with a probability of\n",
        "1\n",
        "6\n",
        "6\n",
        "1\n",
        "​\n",
        " . If you roll the die a large number of times and calculate the sum of the results, the distribution of the sum will approximate a normal distribution due to the CLT. This approximation allows us to use properties of the normal distribution (like the mean and variance) to make predictions about the sum of the dice rolls."
      ],
      "metadata": {
        "id": "gnEFOOcpidqL"
      }
    },
    {
      "cell_type": "markdown",
      "source": [
        "### **27. How do you test the goodness of fit of a discrete probability distribution?**\n"
      ],
      "metadata": {
        "id": "rXY13lvEidpH"
      }
    },
    {
      "cell_type": "markdown",
      "source": [
        "To test the goodness of fit for a discrete probability distribution, you can use the Chi-square goodness of fit test. This test compares the observed frequencies of events with the expected frequencies under the assumed distribution.\n",
        "\n",
        "Example:\n",
        "Suppose you roll a die 60 times and observe the following frequencies: 8, 10, 12, 10, 12, 8. You want to test if the die is fair. The expected frequency for each outcome (1 through 6) is\n",
        "60\n",
        "×\n",
        "1\n",
        "6\n",
        "=\n",
        "10\n",
        "60×\n",
        "6\n",
        "1\n",
        "​\n",
        " =10. You calculate the Chi-square statistic:\n",
        "𝜒\n",
        "2\n",
        "=\n",
        "∑\n",
        "(\n",
        "𝑂\n",
        "𝑖\n",
        "−\n",
        "𝐸\n",
        "𝑖\n",
        ")\n",
        "2\n",
        "𝐸\n",
        "𝑖\n",
        "χ\n",
        "2\n",
        " =∑\n",
        "E\n",
        "i\n",
        "​\n",
        "\n",
        "(O\n",
        "i\n",
        "​\n",
        " −E\n",
        "i\n",
        "​\n",
        " )\n",
        "2\n",
        "\n",
        "​\n",
        "\n",
        "where\n",
        "𝑂\n",
        "𝑖\n",
        "O\n",
        "i\n",
        "​\n",
        "  and\n",
        "𝐸\n",
        "𝑖\n",
        "E\n",
        "i\n",
        "​\n",
        "  are the observed and expected frequencies, respectively. You then compare this statistic to the critical value from the Chi-square distribution with\n",
        "𝑘\n",
        "−\n",
        "1\n",
        "k−1 degrees of freedom (where\n",
        "𝑘\n",
        "k is the number of categories) to determine if the die is fair.\n"
      ],
      "metadata": {
        "id": "HnibeNibidni"
      }
    },
    {
      "cell_type": "markdown",
      "source": [
        "### **28. What is a joint probability distribution?**"
      ],
      "metadata": {
        "id": "84yv7jtbidmd"
      }
    },
    {
      "cell_type": "markdown",
      "source": [
        "A joint probability distribution represents the probability of two or more random variables occurring simultaneously.\n",
        "\n",
        "Example:\n",
        "Consider two random variables\n",
        "𝑋\n",
        "X and\n",
        "𝑌\n",
        "Y representing the outcomes of rolling two dice. The joint probability distribution would give the probability of each possible pair of outcomes\n",
        "(\n",
        "𝑥\n",
        ",\n",
        "𝑦\n",
        ")\n",
        "(x,y), where\n",
        "𝑥\n",
        "x and\n",
        "𝑦\n",
        "y can each be any value from 1 to 6."
      ],
      "metadata": {
        "id": "y_NPyUvRidkL"
      }
    },
    {
      "cell_type": "markdown",
      "source": [
        "### **29. How do you calculate the joint probability distribution?**"
      ],
      "metadata": {
        "id": "KGHJJW1Bidiq"
      }
    },
    {
      "cell_type": "markdown",
      "source": [
        "To calculate the joint probability distribution, you determine the probability for each pair of outcomes.\n",
        "\n",
        "Example:\n",
        "Using the dice example, if both dice are fair, the probability of any specific pair\n",
        "(\n",
        "𝑥\n",
        ",\n",
        "𝑦\n",
        ")\n",
        "(x,y) is:\n",
        "𝑃\n",
        "(\n",
        "𝑋\n",
        "=\n",
        "𝑥\n",
        ",\n",
        "𝑌\n",
        "=\n",
        "𝑦\n",
        ")\n",
        "=\n",
        "1\n",
        "6\n",
        "×\n",
        "1\n",
        "6\n",
        "=\n",
        "1\n",
        "36\n",
        "P(X=x,Y=y)=\n",
        "6\n",
        "1\n",
        "​\n",
        " ×\n",
        "6\n",
        "1\n",
        "​\n",
        " =\n",
        "36\n",
        "1\n",
        "​\n",
        "\n",
        "This assumes independence between the rolls of the two dice."
      ],
      "metadata": {
        "id": "mYXlm4i3idhh"
      }
    },
    {
      "cell_type": "markdown",
      "source": [],
      "metadata": {
        "id": "KEwRlsWUidfb"
      }
    },
    {
      "cell_type": "markdown",
      "source": [],
      "metadata": {
        "id": "hV-lV2WgideJ"
      }
    },
    {
      "cell_type": "markdown",
      "source": [],
      "metadata": {
        "id": "AV1imZgVidc7"
      }
    },
    {
      "cell_type": "markdown",
      "source": [],
      "metadata": {
        "id": "5M5RviROidb1"
      }
    },
    {
      "cell_type": "markdown",
      "source": [],
      "metadata": {
        "id": "iBWBZFgtidaw"
      }
    },
    {
      "cell_type": "markdown",
      "source": [],
      "metadata": {
        "id": "xflSoP0sidZd"
      }
    },
    {
      "cell_type": "markdown",
      "source": [],
      "metadata": {
        "id": "rAuzcGBUidYc"
      }
    },
    {
      "cell_type": "markdown",
      "source": [],
      "metadata": {
        "id": "Y-sobpmdidXK"
      }
    },
    {
      "cell_type": "markdown",
      "source": [],
      "metadata": {
        "id": "P330bwKOidWC"
      }
    },
    {
      "cell_type": "markdown",
      "source": [],
      "metadata": {
        "id": "k4WdVuZridUp"
      }
    },
    {
      "cell_type": "markdown",
      "source": [],
      "metadata": {
        "id": "EAJwTTuVidTn"
      }
    },
    {
      "cell_type": "markdown",
      "source": [],
      "metadata": {
        "id": "EBfL5Gb1idSK"
      }
    },
    {
      "cell_type": "markdown",
      "source": [],
      "metadata": {
        "id": "esfxd1aYidQ9"
      }
    },
    {
      "cell_type": "markdown",
      "source": [],
      "metadata": {
        "id": "YdeaY2iPidPV"
      }
    },
    {
      "cell_type": "markdown",
      "source": [],
      "metadata": {
        "id": "qnzNM2ibidOP"
      }
    },
    {
      "cell_type": "markdown",
      "source": [],
      "metadata": {
        "id": "R--fSi0HidMo"
      }
    }
  ]
}