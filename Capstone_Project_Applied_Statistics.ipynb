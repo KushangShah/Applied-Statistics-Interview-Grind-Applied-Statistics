{
  "nbformat": 4,
  "nbformat_minor": 0,
  "metadata": {
    "colab": {
      "provenance": [],
      "authorship_tag": "ABX9TyM663JfWGjYgTbAgRaI5wvj",
      "include_colab_link": true
    },
    "kernelspec": {
      "name": "python3",
      "display_name": "Python 3"
    },
    "language_info": {
      "name": "python"
    }
  },
  "cells": [
    {
      "cell_type": "markdown",
      "metadata": {
        "id": "view-in-github",
        "colab_type": "text"
      },
      "source": [
        "<a href=\"https://colab.research.google.com/github/KushangShah/Applied-Statistics-Interview-Grind-Applied-Statistics/blob/main/Capstone_Project_Applied_Statistics.ipynb\" target=\"_parent\"><img src=\"https://colab.research.google.com/assets/colab-badge.svg\" alt=\"Open In Colab\"/></a>"
      ]
    },
    {
      "cell_type": "markdown",
      "source": [
        "# End Course Summative AssignmentEnd Course Summative Assignment!"
      ],
      "metadata": {
        "id": "PzSIhz21-b7L"
      }
    },
    {
      "cell_type": "markdown",
      "source": [
        "####**Problem Statement: Write the Solutions to the Top 50 Interview Questions and Explain any 5 Questions in a Video**\n",
        "\n",
        "Imagine you are a dedicated student aspiring to excel in job\n",
        "interviews. Your task is to write the solutions for any 50 interview questions out of  80 total questions  presented to you. Additionally, create an engaging video where you thoroughly explain the answers to any five of these questions.\n",
        "\n",
        "Your solutions should be concise, well-structured, and effective in showcasing your problem-solving skills. In the video, use a dynamic approach to clarify the chosen questions, ensuring your explanations are easily comprehensible for a broad audience."
      ],
      "metadata": {
        "id": "bfmkmr5Q-j3u"
      }
    },
    {
      "cell_type": "markdown",
      "source": [
        "### **1. What is a vector in mathematics?**\n"
      ],
      "metadata": {
        "id": "6p_kvEvR-0vX"
      }
    },
    {
      "cell_type": "markdown",
      "source": [
        "A vector in mathematics is a quantity that has both magnitude (or length) and direction. It is often used to represent physical quantities such as force or velocity, which have a direction and a magnitude. Unlike a scalar, which only has magnitude, a vector provides more detailed information about the quantity it represents."
      ],
      "metadata": {
        "id": "i0woR4_7dV09"
      }
    },
    {
      "cell_type": "markdown",
      "source": [
        "### **2. How is a vector different from a scalar?**\n"
      ],
      "metadata": {
        "id": "KSLsnFu4dVxy"
      }
    },
    {
      "cell_type": "markdown",
      "source": [
        "A vector differs from a scalar in that it has both magnitude and direction, whereas a scalar only has magnitude. For instance, speed is a scalar because it only involves the magnitude of movement, while velocity is a vector because it includes both the speed and the direction of movement. Thus, vectors provide more detailed information about physical quantities than scalars. For example, if a car is moving at 60 mph north, the speed (60 mph) is the scalar quantity, while the velocity (60 mph north) is the vector quantity which includes direction.\n"
      ],
      "metadata": {
        "id": "SDV8b-lAdVu8"
      }
    },
    {
      "cell_type": "markdown",
      "source": [
        "### **3. What are the different operations that can be performed on vectors?**\n"
      ],
      "metadata": {
        "id": "35X9ZNO2dVoD"
      }
    },
    {
      "cell_type": "markdown",
      "source": [
        "There are several operations that can be performed on vectors. These include:\n",
        "\n",
        "- **Addition/Subtraction**: Vectors can be added or subtracted component-wise. For example, if we have two vectors u = (u1, u2) and v = (v1, v2), the addition of u and v (u+v) would be (u1+v1, u2+v2).\n",
        "- **Scalar Multiplication**: A vector can be multiplied by a scalar (a real number). For example, if we have a vector u = (u1, u2) and a scalar c, the scalar multiplication of u and c (cu) would be (cu1, cu2).\n",
        "- **Dot Product**: The dot product (or scalar product) of two vectors u = (u1, u2) and v = (v1, v2) is a scalar obtained by multiplying corresponding components and adding the products (u1v1 + u2v2).\n",
        "- **Cross Product**: The cross product (or vector product) of two vectors in three-dimensional space results in a vector that is perpendicular to the plane containing the two original vectors.\n",
        "\n",
        "These operations are the basis for many concepts and calculations in fields such as physics and engineering."
      ],
      "metadata": {
        "id": "OvKGvgBMdVgN"
      }
    },
    {
      "cell_type": "markdown",
      "source": [],
      "metadata": {
        "id": "ZL9HJPW2dVc8"
      }
    },
    {
      "cell_type": "markdown",
      "source": [
        "### **4. How can vectors be multiplied by a scalar?**\n"
      ],
      "metadata": {
        "id": "e_o8xiFGdrX4"
      }
    },
    {
      "cell_type": "markdown",
      "source": [
        "A vector can be multiplied by a scalar by multiplying each component of the vector by the scalar. This operation is called \"scalar multiplication\".\n",
        "\n",
        "For instance, if we have a vector $v = (2, 3)$ and a scalar $c = 4$, the scalar multiplication of v and c (cv) would be:\n",
        "\n",
        "$cv = (4 * 2, 4 * 3) = (8, 12)$\n",
        "\n",
        "So, the scalar multiplication of the vector v and the scalar c results in a new vector $(8, 12)$."
      ],
      "metadata": {
        "id": "GOBD1qIqdrWI"
      }
    },
    {
      "cell_type": "markdown",
      "source": [
        "### **5. What is the magnitude of a vector?**\n"
      ],
      "metadata": {
        "id": "3ZANGwS-drU9"
      }
    },
    {
      "cell_type": "markdown",
      "source": [
        "The magnitude of a vector represents its length or size in the vector space. It is calculated by taking the square root of the sum of the squares of its components.\n",
        "\n",
        "For example, if we have a vector $v = (v1, v2)$, the magnitude (or length) of v, denoted as ||v||, can be calculated as:\n",
        "\n",
        "$||v|| = sqrt(v1^2 + v2^2)$\n",
        "\n",
        "So, if you have a vector v = (3, 4), the magnitude of v would be:\n",
        "\n",
        "$||v|| = sqrt(3^2 + 4^2) = sqrt(9 + 16) = sqrt(25) = 5$\n",
        "\n",
        "Therefore, the magnitude of the vector $v = (3, 4) = 5.$"
      ],
      "metadata": {
        "id": "bGENrPqwdrTE"
      }
    },
    {
      "cell_type": "markdown",
      "source": [
        "### **6. How can the direction of a vector be determined?**\n"
      ],
      "metadata": {
        "id": "gwAo9YhPdrR8"
      }
    },
    {
      "cell_type": "markdown",
      "source": [
        "\n",
        "The direction of a vector can be determined by calculating the angle it makes with the x-axis, using trigonometric functions. For a 2D vector `(a, b)`, the angle θ (in radians) can be found using `arctan(b/a)`. Please note, the quadrant in which the vector lies needs to be considered while determining the direction."
      ],
      "metadata": {
        "id": "pZDntUjDdrQC"
      }
    },
    {
      "cell_type": "markdown",
      "source": [
        "### **7. What is the difference between a square matrix and a rectangular matrix?**\n"
      ],
      "metadata": {
        "id": "_-1Yg0EAdrOq"
      }
    },
    {
      "cell_type": "markdown",
      "source": [
        "\n",
        "A square matrix is a matrix with the same number of rows and columns. For example, a 2x2 matrix is a square matrix. In contrast, a rectangular matrix has a different number of rows and columns. For instance, a 3x2 matrix is a rectangular matrix."
      ],
      "metadata": {
        "id": "yRrXh_iJdrNI"
      }
    },
    {
      "cell_type": "markdown",
      "source": [
        "### **8. What is a basis in linear algebra?**\n"
      ],
      "metadata": {
        "id": "v6JKHC-YdrMA"
      }
    },
    {
      "cell_type": "markdown",
      "source": [
        "\n",
        "A basis in linear algebra is a set of vectors that are linearly independent and span the vector space. For example, the vectors `(1, 0)` and `(0, 1)` form a basis for the 2D plane because they are linearly independent (no vector is a linear combination of the other) and any point on the 2D plane can be expressed as a linear combination of these two vectors."
      ],
      "metadata": {
        "id": "851D9-kkdrKW"
      }
    },
    {
      "cell_type": "markdown",
      "source": [
        "### **9. What is a linear transformation in linear algebra?**\n"
      ],
      "metadata": {
        "id": "gj2z-DkvdrJO"
      }
    },
    {
      "cell_type": "markdown",
      "source": [
        "\n",
        "A linear transformation is a function that preserves the operations of addition and scalar multiplication. In other words, for any vectors `v` and `w` and any scalar `c`, a linear transformation `T` satisfies `T(v + w) = T(v) + T(w)` and `T(cv) = cT(v)`.\n"
      ],
      "metadata": {
        "id": "MYNdw4w6drHk"
      }
    },
    {
      "cell_type": "markdown",
      "source": [
        "### **10. What is an eigenvector in linear algebra?**\n"
      ],
      "metadata": {
        "id": "bNP3D_TEdrGG"
      }
    },
    {
      "cell_type": "markdown",
      "source": [
        "\n",
        "An eigenvector is a non-zero vector that only changes by a scalar factor when a linear transformation is applied to it. That is, for a linear transformation `T` and a scalar `λ`, an eigenvector `v` satisfies `T(v) = λv`. The scalar `λ` is called the eigenvalue associated with the eigenvector."
      ],
      "metadata": {
        "id": "GmvaoPl6drCR"
      }
    },
    {
      "cell_type": "markdown",
      "source": [
        "### **11. What is the gradient in machine learning?**\n"
      ],
      "metadata": {
        "id": "VPaoiWc0drBQ"
      }
    },
    {
      "cell_type": "markdown",
      "source": [
        "\n",
        "The gradient in machine learning is a vector of partial derivatives that points in the direction of the greatest rate of increase of a function. For instance, if our function is f(x, y) = x² + y², the gradient would be ∇f(x, y) = [2x, 2y]."
      ],
      "metadata": {
        "id": "XmqimMJodq_n"
      }
    },
    {
      "cell_type": "markdown",
      "source": [
        "### **12. What is backpropagation in machine learning?**\n"
      ],
      "metadata": {
        "id": "CD1uuWvsdq-O"
      }
    },
    {
      "cell_type": "markdown",
      "source": [
        "\n",
        "Backpropagation is an algorithm used in neural networks to calculate the gradient of the loss function with respect to the weights of the network. For example, if we have a simple network with weights w1 and w2, and a loss function L, backpropagation would help us calculate ∂L/∂w1 and ∂L/∂w2."
      ],
      "metadata": {
        "id": "LtaY-p3odq8l"
      }
    },
    {
      "cell_type": "markdown",
      "source": [
        "### **13. What is the concept of a derivative in calculus?**\n"
      ],
      "metadata": {
        "id": "4d0MQovYdq7V"
      }
    },
    {
      "cell_type": "markdown",
      "source": [
        "\n",
        "A derivative in calculus measures how a function changes as its input changes. For example, if we have a function f(x) = x², the derivative f'(x) = 2x."
      ],
      "metadata": {
        "id": "gLQeAjszdq5r"
      }
    },
    {
      "cell_type": "markdown",
      "source": [
        "### **14. How are partial derivatives used in machine learning?**\n"
      ],
      "metadata": {
        "id": "DpszVDltdq4s"
      }
    },
    {
      "cell_type": "markdown",
      "source": [
        "\n",
        "Partial derivatives are used in machine learning to optimize loss functions with respect to multiple parameters. For instance, if we have a loss function L(w1, w2), we would calculate ∂L/∂w1 and ∂L/∂w2 and use these to update the parameters w1 and w2 to minimize the loss function.\n"
      ],
      "metadata": {
        "id": "ayzxdao9dq1J"
      }
    },
    {
      "cell_type": "markdown",
      "source": [
        "### **15. What is probability theory?**\n"
      ],
      "metadata": {
        "id": "7SWHthbldqyv"
      }
    },
    {
      "cell_type": "markdown",
      "source": [
        "\n",
        "Probability theory is a branch of mathematics that deals with uncertainty. It is used to quantify the likelihood of events. For example, the probability of getting a head when flipping a fair coin is 0.5 (or 50%)."
      ],
      "metadata": {
        "id": "xWazTjJMdqxV"
      }
    },
    {
      "cell_type": "markdown",
      "source": [],
      "metadata": {
        "id": "uF1pGCd2dqv6"
      }
    },
    {
      "cell_type": "markdown",
      "source": [],
      "metadata": {
        "id": "faddSJnSdqpC"
      }
    },
    {
      "cell_type": "markdown",
      "source": [],
      "metadata": {
        "id": "bbZEeGwcdqlW"
      }
    },
    {
      "cell_type": "markdown",
      "source": [],
      "metadata": {
        "id": "KTS5o3hUdqiP"
      }
    }
  ]
}